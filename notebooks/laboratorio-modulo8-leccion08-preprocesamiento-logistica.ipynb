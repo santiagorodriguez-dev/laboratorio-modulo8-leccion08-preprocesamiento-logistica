{
 "cells": [
  {
   "cell_type": "markdown",
   "metadata": {},
   "source": [
    "<div style=\"text-align: center;\">\n",
    "  <img src=\"https://github.com/Hack-io-Data/Imagenes/blob/main/01-LogosHackio/logo_naranja@4x.png?raw=true\" alt=\"esquema\" />\n",
    "</div>"
   ]
  },
  {
   "cell_type": "markdown",
   "metadata": {},
   "source": [
    "# Preprocesamiento de Datos para un Modelo de Clasificación\n",
    "\n",
    "Nuestro equipo de riesgo ha identificado la necesidad de construir un modelo de clasificación para detectar transacciones potencialmente fraudulentas o anómalas. El éxito de este modelo permitirá identificar patrones en los datos y reducir pérdidas económicas para nuestros clientes y la empresa. Tu trabajo para hoy será preparar los datos proporcionados para desarrollar un modelo de clasificación que prediga la probabilidad de que una transacción sea “Normal” o “Anómala”, basándose en las características de las transacciones. Dentro de las tareas que tienes que realizar hoy deben estar incluidas las siguientes: \n",
    "\n",
    "\n",
    "1. **Análisis exploratorio de datos (EDA):**\n",
    "\n",
    "   - Visualizar la distribución de las principales variables.\n",
    "\n",
    "   - Explorar relaciones entre las características y la variable objetivo (`is_fraudulent`).\n",
    "\n",
    "\n",
    "2. **Limpieza de datos:**\n",
    "\n",
    "   - Identificar y tratar valores nulos.\n",
    "\n",
    "   - Eliminar duplicados si existen.\n",
    "\n",
    "   - Asegurar que las variables tienen el tipo de dato correcto.\n",
    "\n",
    "   - etc. \n",
    "\n",
    "3. **Transformación de variables:**\n",
    "\n",
    "   - Normalizar o escalar variables numéricas según sea necesario.\n",
    "\n",
    "   - Codificar variables categóricas con técnicas como One-Hot Encoding, Target Encoding u Ordinal Encoding, según corresponda.\n",
    "\n",
    "   - Crear variables derivadas útiles, como:\n",
    "\n",
    "     - Frecuencia de transacciones de cada cliente.\n",
    "\n",
    "     - Diferencia de tiempo entre transacciones consecutivas.\n",
    "\n",
    "     - Ratio entre el saldo posterior y el monto de la transacción.\n",
    "\n",
    "## Datos Proporcionados\n",
    "\n",
    "El archivo de datos que analizarán contiene transacciones reales registradas por una compañia. A continuación, se describen las principales columnas que deberán preprocesar:\n",
    "\n",
    "| Columna               | Descripción                                                                                     |\n",
    "|-----------------------|-------------------------------------------------------------------------------------------------|\n",
    "| `transaction_id`      | Identificador único de la transacción.                                                         |\n",
    "| `customer_id`         | Identificador único del cliente que realizó la transacción.                                    |\n",
    "| `merchant_id`         | Identificador único del comercio donde se realizó la transacción.                              |\n",
    "| `amount`              | Monto de la transacción (en la moneda correspondiente).                                        |\n",
    "| `transaction_time`    | Fecha y hora exacta en la que ocurrió la transacción.                                          |\n",
    "| `is_fraudulent`       | Indicador de si la transacción fue fraudulenta (1: Sí, 0: No).                                 |\n",
    "| `card_type`           | Tipo de tarjeta utilizada para la transacción (Visa, MasterCard, American Express, Discover).  |\n",
    "| `location`            | Ubicación (ciudad o región) donde se realizó la transacción.                                   |\n",
    "| `purchase_category`   | Categoría de la compra (por ejemplo, Gas Station, Online Shopping, Retail, etc.).              |\n",
    "| `customer_age`        | Edad del cliente en el momento de la transacción.                                              |\n",
    "| `transaction_description` | Descripción breve de la transacción, usualmente incluye el comercio asociado.              |\n"
   ]
  },
  {
   "cell_type": "code",
   "execution_count": null,
   "metadata": {},
   "outputs": [],
   "source": []
  }
 ],
 "metadata": {
  "kernelspec": {
   "display_name": "contenido",
   "language": "python",
   "name": "python3"
  },
  "language_info": {
   "codemirror_mode": {
    "name": "ipython",
    "version": 3
   },
   "file_extension": ".py",
   "mimetype": "text/x-python",
   "name": "python",
   "nbconvert_exporter": "python",
   "pygments_lexer": "ipython3",
   "version": "3.11.8"
  }
 },
 "nbformat": 4,
 "nbformat_minor": 2
}
